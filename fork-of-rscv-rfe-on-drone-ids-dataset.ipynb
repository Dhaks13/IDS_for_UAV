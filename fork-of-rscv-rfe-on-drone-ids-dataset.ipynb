{
 "cells": [
  {
   "cell_type": "code",
   "execution_count": 1,
   "id": "30f01557",
   "metadata": {
    "_cell_guid": "b1076dfc-b9ad-4769-8c92-a6c4dae69d19",
    "_uuid": "8f2839f25d086af736a60e9eeb907d3b93b6e0e5",
    "execution": {
     "iopub.execute_input": "2025-03-06T05:48:49.349862Z",
     "iopub.status.busy": "2025-03-06T05:48:49.349436Z",
     "iopub.status.idle": "2025-03-06T05:48:50.649311Z",
     "shell.execute_reply": "2025-03-06T05:48:50.647822Z"
    },
    "papermill": {
     "duration": 1.309122,
     "end_time": "2025-03-06T05:48:50.651928",
     "exception": false,
     "start_time": "2025-03-06T05:48:49.342806",
     "status": "completed"
    },
    "tags": []
   },
   "outputs": [
    {
     "name": "stdout",
     "output_type": "stream",
     "text": [
      "/kaggle/input/drone-ids-dataset/GPS_Dataset_3D_8_Channels_Authentic_and_Simulated.xlsx\n",
      "/kaggle/input/drone-ids-dataset/WSN-DS.csv\n"
     ]
    }
   ],
   "source": [
    "# This Python 3 environment comes with many helpful analytics libraries installed\n",
    "# It is defined by the kaggle/python Docker image: https://github.com/kaggle/docker-python\n",
    "# For example, here's several helpful packages to load\n",
    "\n",
    "import numpy as np # linear algebra\n",
    "import pandas as pd # data processing, CSV file I/O (e.g. pd.read_csv)\n",
    "\n",
    "# Input data files are available in the read-only \"../input/\" directory\n",
    "# For example, running this (by clicking run or pressing Shift+Enter) will list all files under the input directory\n",
    "\n",
    "import os\n",
    "for dirname, _, filenames in os.walk('/kaggle/input'):\n",
    "    for filename in filenames:\n",
    "        print(os.path.join(dirname, filename))\n",
    "\n",
    "# You can write up to 20GB to the current directory (/kaggle/working/) that gets preserved as output when you create a version using \"Save & Run All\" \n",
    "# You can also write temporary files to /kaggle/temp/, but they won't be saved outside of the current session"
   ]
  },
  {
   "cell_type": "markdown",
   "id": "6cb63af6",
   "metadata": {
    "papermill": {
     "duration": 0.002932,
     "end_time": "2025-03-06T05:48:50.659115",
     "exception": false,
     "start_time": "2025-03-06T05:48:50.656183",
     "status": "completed"
    },
    "tags": []
   },
   "source": [
    "# WSN dataset"
   ]
  },
  {
   "cell_type": "markdown",
   "id": "1d32e19d",
   "metadata": {
    "papermill": {
     "duration": 0.002676,
     "end_time": "2025-03-06T05:48:50.664828",
     "exception": false,
     "start_time": "2025-03-06T05:48:50.662152",
     "status": "completed"
    },
    "tags": []
   },
   "source": [
    "# Pre-processing"
   ]
  },
  {
   "cell_type": "code",
   "execution_count": 2,
   "id": "d9f02eeb",
   "metadata": {
    "execution": {
     "iopub.execute_input": "2025-03-06T05:48:50.672329Z",
     "iopub.status.busy": "2025-03-06T05:48:50.671778Z",
     "iopub.status.idle": "2025-03-06T05:48:53.262757Z",
     "shell.execute_reply": "2025-03-06T05:48:53.261357Z"
    },
    "papermill": {
     "duration": 2.596622,
     "end_time": "2025-03-06T05:48:53.264339",
     "exception": false,
     "start_time": "2025-03-06T05:48:50.667717",
     "status": "completed"
    },
    "tags": []
   },
   "outputs": [
    {
     "name": "stdout",
     "output_type": "stream",
     "text": [
      "['Blackhole' 'Flooding' 'Grayhole' 'Normal' 'TDMA']\n"
     ]
    }
   ],
   "source": [
    "import pandas as pd\n",
    "import numpy as np\n",
    "from sklearn.preprocessing import StandardScaler, LabelEncoder\n",
    "\n",
    "# Load dataset\n",
    "wsn_df = pd.read_csv('/kaggle/input/drone-ids-dataset/WSN-DS.csv')\n",
    "\n",
    "# Drop irrelevant columns\n",
    "wsn_df.drop(columns=[' id', ' Time', ' send_code '], inplace=True)\n",
    "\n",
    "# Encode categorical target variable\n",
    "encoder = LabelEncoder()\n",
    "wsn_df['Attack type'] = encoder.fit_transform(wsn_df['Attack type'])\n",
    "print(encoder.classes_)\n",
    "\n",
    "wsn_df = wsn_df.astype(np.float32)"
   ]
  },
  {
   "cell_type": "markdown",
   "id": "b97689a5",
   "metadata": {
    "papermill": {
     "duration": 0.002981,
     "end_time": "2025-03-06T05:48:53.270869",
     "exception": false,
     "start_time": "2025-03-06T05:48:53.267888",
     "status": "completed"
    },
    "tags": []
   },
   "source": [
    "## Optimize Feature Selection"
   ]
  },
  {
   "cell_type": "code",
   "execution_count": 3,
   "id": "3e2b3098",
   "metadata": {
    "execution": {
     "iopub.execute_input": "2025-03-06T05:48:53.279174Z",
     "iopub.status.busy": "2025-03-06T05:48:53.278707Z",
     "iopub.status.idle": "2025-03-06T05:48:59.679456Z",
     "shell.execute_reply": "2025-03-06T05:48:59.678089Z"
    },
    "papermill": {
     "duration": 6.40653,
     "end_time": "2025-03-06T05:48:59.681007",
     "exception": false,
     "start_time": "2025-03-06T05:48:53.274477",
     "status": "completed"
    },
    "tags": []
   },
   "outputs": [
    {
     "name": "stdout",
     "output_type": "stream",
     "text": [
      "Selected Features: Index([' Is_CH', ' who CH', ' ADV_S', ' JOIN_R', ' SCH_S', 'Rank', ' DATA_S',\n",
      "       ' Data_Sent_To_BS', ' dist_CH_To_BS', 'Expaned Energy'],\n",
      "      dtype='object')\n"
     ]
    }
   ],
   "source": [
    "from sklearn.ensemble import RandomForestClassifier\n",
    "from sklearn.feature_selection import RFE\n",
    "\n",
    "# Take a sample (reduce memory usage)\n",
    "sample_size = min(30000, len(wsn_df))\n",
    "wsn_sample = wsn_df.sample(n=sample_size, random_state=42)\n",
    "\n",
    "X_sample = wsn_sample.drop(columns=['Attack type'])\n",
    "y_sample = wsn_sample['Attack type']\n",
    "\n",
    "# Apply RFE\n",
    "rfe = RFE(RandomForestClassifier(n_estimators=50, random_state=42), n_features_to_select=10)\n",
    "rfe.fit(X_sample, y_sample)\n",
    "\n",
    "# Get selected features\n",
    "selected_features = X_sample.columns[rfe.support_]\n",
    "print(\"Selected Features:\", selected_features)"
   ]
  },
  {
   "cell_type": "markdown",
   "id": "38533bd4",
   "metadata": {
    "papermill": {
     "duration": 0.00382,
     "end_time": "2025-03-06T05:48:59.688462",
     "exception": false,
     "start_time": "2025-03-06T05:48:59.684642",
     "status": "completed"
    },
    "tags": []
   },
   "source": [
    "## Normalization"
   ]
  },
  {
   "cell_type": "code",
   "execution_count": 4,
   "id": "80e16a96",
   "metadata": {
    "execution": {
     "iopub.execute_input": "2025-03-06T05:48:59.696531Z",
     "iopub.status.busy": "2025-03-06T05:48:59.696199Z",
     "iopub.status.idle": "2025-03-06T05:48:59.756320Z",
     "shell.execute_reply": "2025-03-06T05:48:59.755080Z"
    },
    "papermill": {
     "duration": 0.066223,
     "end_time": "2025-03-06T05:48:59.758175",
     "exception": false,
     "start_time": "2025-03-06T05:48:59.691952",
     "status": "completed"
    },
    "tags": []
   },
   "outputs": [
    {
     "name": "stdout",
     "output_type": "stream",
     "text": [
      "      Is_CH    who CH     ADV_S    JOIN_R     SCH_S      Rank    DATA_S  \\\n",
      "0  2.763714 -0.446206  0.355289  5.171597  0.258106 -0.659800 -1.053636   \n",
      "1 -0.361832 -0.446093 -0.129878 -0.157198 -0.104904 -0.523578 -0.161081   \n",
      "2 -0.361832 -0.446180 -0.129878 -0.157198 -0.104904  0.634312 -0.090616   \n",
      "3 -0.361832 -0.446093 -0.129878 -0.157198 -0.104904  0.429979 -0.161081   \n",
      "4 -0.361832 -0.446180 -0.129878 -0.157198 -0.104904  1.042979 -0.090616   \n",
      "\n",
      "    Data_Sent_To_BS   dist_CH_To_BS  Expaned Energy  \n",
      "0          2.206935        2.139262        3.232062  \n",
      "1         -0.232198       -0.448907       -0.352658  \n",
      "2         -0.232198       -0.448907       -0.353539  \n",
      "3         -0.232198       -0.448907       -0.356900  \n",
      "4         -0.232198       -0.448907       -0.358977  \n"
     ]
    }
   ],
   "source": [
    "from scipy.stats import zscore\n",
    "\n",
    "# Apply Z-score normalization\n",
    "X_selected = wsn_df[selected_features]\n",
    "X_normalized = X_selected.apply(zscore)\n",
    "\n",
    "print(X_normalized.head())"
   ]
  },
  {
   "cell_type": "markdown",
   "id": "4f084c39",
   "metadata": {
    "papermill": {
     "duration": 0.003158,
     "end_time": "2025-03-06T05:48:59.765098",
     "exception": false,
     "start_time": "2025-03-06T05:48:59.761940",
     "status": "completed"
    },
    "tags": []
   },
   "source": [
    "## Handle Class Imbalance with SMOTE"
   ]
  },
  {
   "cell_type": "code",
   "execution_count": 5,
   "id": "ebf1e4ce",
   "metadata": {
    "execution": {
     "iopub.execute_input": "2025-03-06T05:48:59.773092Z",
     "iopub.status.busy": "2025-03-06T05:48:59.772675Z",
     "iopub.status.idle": "2025-03-06T05:49:00.784877Z",
     "shell.execute_reply": "2025-03-06T05:49:00.784068Z"
    },
    "papermill": {
     "duration": 1.017982,
     "end_time": "2025-03-06T05:49:00.786475",
     "exception": false,
     "start_time": "2025-03-06T05:48:59.768493",
     "status": "completed"
    },
    "tags": []
   },
   "outputs": [],
   "source": [
    "from imblearn.over_sampling import SMOTE\n",
    "\n",
    "y = wsn_df['Attack type']\n",
    "smote = SMOTE()\n",
    "X_resampled, y_resampled = smote.fit_resample(X_normalized, y)"
   ]
  },
  {
   "cell_type": "markdown",
   "id": "c6f15e87",
   "metadata": {
    "papermill": {
     "duration": 0.003053,
     "end_time": "2025-03-06T05:49:00.793225",
     "exception": false,
     "start_time": "2025-03-06T05:49:00.790172",
     "status": "completed"
    },
    "tags": []
   },
   "source": [
    "## Splitting Data for training-80% testing-20%"
   ]
  },
  {
   "cell_type": "code",
   "execution_count": 6,
   "id": "de100925",
   "metadata": {
    "execution": {
     "iopub.execute_input": "2025-03-06T05:49:00.801611Z",
     "iopub.status.busy": "2025-03-06T05:49:00.800814Z",
     "iopub.status.idle": "2025-03-06T05:49:01.122680Z",
     "shell.execute_reply": "2025-03-06T05:49:01.121366Z"
    },
    "papermill": {
     "duration": 0.328248,
     "end_time": "2025-03-06T05:49:01.124657",
     "exception": false,
     "start_time": "2025-03-06T05:49:00.796409",
     "status": "completed"
    },
    "tags": []
   },
   "outputs": [],
   "source": [
    "from sklearn.model_selection import train_test_split\n",
    "\n",
    "X_train, X_test, y_train, y_test = train_test_split(X_resampled, y_resampled, test_size=0.2, random_state=42)"
   ]
  },
  {
   "cell_type": "markdown",
   "id": "7e6031a7",
   "metadata": {
    "papermill": {
     "duration": 0.002913,
     "end_time": "2025-03-06T05:49:01.131304",
     "exception": false,
     "start_time": "2025-03-06T05:49:01.128391",
     "status": "completed"
    },
    "tags": []
   },
   "source": [
    "# Model\n",
    "\n",
    "1. Random Forest(RF)\n",
    "2. Decision Tree(DT)\n",
    "3. Gaussian Naive Bayes (GNB)\n",
    "4. Adaptive Boosting (AdaBoost)\n",
    "5. Logistics Regression (LR)"
   ]
  },
  {
   "cell_type": "code",
   "execution_count": 7,
   "id": "fb72fa4c",
   "metadata": {
    "execution": {
     "iopub.execute_input": "2025-03-06T05:49:01.138721Z",
     "iopub.status.busy": "2025-03-06T05:49:01.138377Z",
     "iopub.status.idle": "2025-03-06T05:49:01.153011Z",
     "shell.execute_reply": "2025-03-06T05:49:01.151563Z"
    },
    "papermill": {
     "duration": 0.020665,
     "end_time": "2025-03-06T05:49:01.155103",
     "exception": false,
     "start_time": "2025-03-06T05:49:01.134438",
     "status": "completed"
    },
    "tags": []
   },
   "outputs": [],
   "source": [
    "# Import Required Modules\n",
    "from sklearn.ensemble import RandomForestClassifier, AdaBoostClassifier\n",
    "from sklearn.tree import DecisionTreeClassifier\n",
    "from sklearn.naive_bayes import GaussianNB\n",
    "from sklearn.linear_model import LogisticRegression\n",
    "from sklearn.model_selection import RandomizedSearchCV\n",
    "from sklearn.metrics import accuracy_score, classification_report\n",
    "\n",
    "\n",
    "# Define hyperparameter grids for each model\n",
    "rf_param_grid = {\n",
    "    'n_estimators': [50, 100, 150, 200],\n",
    "    'min_samples_split': [2, 5, 10, 15],\n",
    "    'min_samples_leaf': [1, 2, 5, 10],\n",
    "    'max_features': [3, 5, 10],\n",
    "    'max_depth': [50, 100, 150, 200, None],\n",
    "    'criterion': ['gini', 'entropy'],\n",
    "    'bootstrap': [True, False]\n",
    "}\n",
    "\n",
    "dt_param_grid = {\n",
    "    'max_depth': [10, 20, 30, None],\n",
    "    'min_samples_split': [2, 5, 10, 15],\n",
    "    'min_samples_leaf': [1, 2, 3, 5],\n",
    "    'criterion': ['gini', 'entropy']\n",
    "}\n",
    "\n",
    "gnb_param_grid = {\n",
    "    'var_smoothing': [1e-9, 1e-8, 1e-7, 1e-6]\n",
    "}\n",
    "\n",
    "ab_param_grid = {\n",
    "    'n_estimators': [50, 100, 200, 300],\n",
    "    'learning_rate': [0.01, 0.1, 0.5, 1],\n",
    "    'algorithm': ['SAMME', 'SAMME.R']\n",
    "}\n",
    "\n",
    "lr_param_grid = {\n",
    "    'solver': ['liblinear', 'lbfgs'],\n",
    "    'penalty': ['l1', 'l2'],\n",
    "    'max_iter': [100, 200, 300],\n",
    "    'C': [0.01, 0.1, 1.0, 10]\n",
    "}\n"
   ]
  },
  {
   "cell_type": "markdown",
   "id": "7145e233",
   "metadata": {
    "papermill": {
     "duration": 0.003076,
     "end_time": "2025-03-06T05:49:01.162163",
     "exception": false,
     "start_time": "2025-03-06T05:49:01.159087",
     "status": "completed"
    },
    "tags": []
   },
   "source": [
    "## Haperparameter Tuning"
   ]
  },
  {
   "cell_type": "code",
   "execution_count": 8,
   "id": "5cd560dc",
   "metadata": {
    "execution": {
     "iopub.execute_input": "2025-03-06T05:49:01.169940Z",
     "iopub.status.busy": "2025-03-06T05:49:01.169561Z",
     "iopub.status.idle": "2025-03-06T06:22:53.610315Z",
     "shell.execute_reply": "2025-03-06T06:22:53.608695Z"
    },
    "papermill": {
     "duration": 2032.448321,
     "end_time": "2025-03-06T06:22:53.613635",
     "exception": false,
     "start_time": "2025-03-06T05:49:01.165314",
     "status": "completed"
    },
    "tags": []
   },
   "outputs": [
    {
     "name": "stdout",
     "output_type": "stream",
     "text": [
      "Running AB\n"
     ]
    },
    {
     "name": "stderr",
     "output_type": "stream",
     "text": [
      "/usr/local/lib/python3.10/dist-packages/sklearn/ensemble/_base.py:166: FutureWarning: `base_estimator` was renamed to `estimator` in version 1.2 and will be removed in 1.4.\n",
      "  warnings.warn(\n"
     ]
    },
    {
     "name": "stdout",
     "output_type": "stream",
     "text": [
      "AB fitted\n"
     ]
    }
   ],
   "source": [
    "print(\"Running AB\")\n",
    "ab = AdaBoostClassifier(base_estimator=DecisionTreeClassifier(max_depth=1), random_state=42)\n",
    "ab_random = RandomizedSearchCV(ab, ab_param_grid, n_iter=10, cv=5, scoring='accuracy', random_state=42, n_jobs=-1)\n",
    "ab_random.fit(X_train, y_train)\n",
    "print(\"AB fitted\")"
   ]
  },
  {
   "cell_type": "code",
   "execution_count": 9,
   "id": "3204bff4",
   "metadata": {
    "execution": {
     "iopub.execute_input": "2025-03-06T06:22:53.622113Z",
     "iopub.status.busy": "2025-03-06T06:22:53.621756Z",
     "iopub.status.idle": "2025-03-06T11:05:06.422164Z",
     "shell.execute_reply": "2025-03-06T11:05:06.418823Z"
    },
    "papermill": {
     "duration": 16932.808058,
     "end_time": "2025-03-06T11:05:06.425115",
     "exception": false,
     "start_time": "2025-03-06T06:22:53.617057",
     "status": "completed"
    },
    "tags": []
   },
   "outputs": [
    {
     "name": "stdout",
     "output_type": "stream",
     "text": [
      "Running LR\n"
     ]
    },
    {
     "name": "stderr",
     "output_type": "stream",
     "text": [
      "/usr/local/lib/python3.10/dist-packages/sklearn/model_selection/_validation.py:378: FitFailedWarning: \n",
      "10 fits failed out of a total of 50.\n",
      "The score on these train-test partitions for these parameters will be set to nan.\n",
      "If these failures are not expected, you can try to debug them by setting error_score='raise'.\n",
      "\n",
      "Below are more details about the failures:\n",
      "--------------------------------------------------------------------------------\n",
      "10 fits failed with the following error:\n",
      "Traceback (most recent call last):\n",
      "  File \"/usr/local/lib/python3.10/dist-packages/sklearn/model_selection/_validation.py\", line 686, in _fit_and_score\n",
      "    estimator.fit(X_train, y_train, **fit_params)\n",
      "  File \"/usr/local/lib/python3.10/dist-packages/sklearn/linear_model/_logistic.py\", line 1162, in fit\n",
      "    solver = _check_solver(self.solver, self.penalty, self.dual)\n",
      "  File \"/usr/local/lib/python3.10/dist-packages/sklearn/linear_model/_logistic.py\", line 54, in _check_solver\n",
      "    raise ValueError(\n",
      "ValueError: Solver lbfgs supports only 'l2' or 'none' penalties, got l1 penalty.\n",
      "\n",
      "  warnings.warn(some_fits_failed_message, FitFailedWarning)\n",
      "/usr/local/lib/python3.10/dist-packages/sklearn/model_selection/_search.py:952: UserWarning: One or more of the test scores are non-finite: [0.89973637 0.9003539  0.90052666 0.89998412 0.90036052        nan\n",
      " 0.90042227 0.89911444 0.90010763        nan]\n",
      "  warnings.warn(\n"
     ]
    },
    {
     "name": "stdout",
     "output_type": "stream",
     "text": [
      "LR fitted\n"
     ]
    }
   ],
   "source": [
    "print(\"Running LR\")\n",
    "lr = LogisticRegression(random_state=42)\n",
    "lr_random = RandomizedSearchCV(lr, lr_param_grid, n_iter=10, cv=5, scoring='accuracy', random_state=42, n_jobs=-1)\n",
    "lr_random.fit(X_train, y_train)\n",
    "print(\"LR fitted\")"
   ]
  },
  {
   "cell_type": "code",
   "execution_count": 10,
   "id": "f6afec0e",
   "metadata": {
    "execution": {
     "iopub.execute_input": "2025-03-06T11:05:06.436788Z",
     "iopub.status.busy": "2025-03-06T11:05:06.436283Z",
     "iopub.status.idle": "2025-03-06T11:05:06.445137Z",
     "shell.execute_reply": "2025-03-06T11:05:06.444045Z"
    },
    "papermill": {
     "duration": 0.018024,
     "end_time": "2025-03-06T11:05:06.447378",
     "exception": false,
     "start_time": "2025-03-06T11:05:06.429354",
     "status": "completed"
    },
    "tags": []
   },
   "outputs": [
    {
     "name": "stdout",
     "output_type": "stream",
     "text": [
      "Best Parameters for AdaBoost: {'n_estimators': 50, 'learning_rate': 1, 'algorithm': 'SAMME'}\n",
      "Best Parameters for Logistic Regression: {'solver': 'liblinear', 'penalty': 'l2', 'max_iter': 100, 'C': 1.0}\n"
     ]
    }
   ],
   "source": [
    "#print(\"Best Parameters for Random Forest:\", rf_random.best_params_)\n",
    "#print(\"Best Parameters for Decision Tree:\", dt_random.best_params_)\n",
    "#print(\"Best Parameters for Gaussian Naive Bayes:\", gnb_random.best_params_)\n",
    "print(\"Best Parameters for AdaBoost:\", ab_random.best_params_)\n",
    "print(\"Best Parameters for Logistic Regression:\", lr_random.best_params_)"
   ]
  },
  {
   "cell_type": "markdown",
   "id": "c22d4187",
   "metadata": {
    "papermill": {
     "duration": 0.003585,
     "end_time": "2025-03-06T11:05:06.455508",
     "exception": false,
     "start_time": "2025-03-06T11:05:06.451923",
     "status": "completed"
    },
    "tags": []
   },
   "source": [
    "## Train Final Models Using Best Hyperparameters"
   ]
  },
  {
   "cell_type": "code",
   "execution_count": 11,
   "id": "b606520d",
   "metadata": {
    "execution": {
     "iopub.execute_input": "2025-03-06T11:05:06.465459Z",
     "iopub.status.busy": "2025-03-06T11:05:06.464785Z",
     "iopub.status.idle": "2025-03-06T11:08:36.514126Z",
     "shell.execute_reply": "2025-03-06T11:08:36.512225Z"
    },
    "papermill": {
     "duration": 210.060091,
     "end_time": "2025-03-06T11:08:36.519401",
     "exception": false,
     "start_time": "2025-03-06T11:05:06.459310",
     "status": "completed"
    },
    "tags": []
   },
   "outputs": [
    {
     "data": {
      "text/html": [
       "<style>#sk-container-id-1 {color: black;background-color: white;}#sk-container-id-1 pre{padding: 0;}#sk-container-id-1 div.sk-toggleable {background-color: white;}#sk-container-id-1 label.sk-toggleable__label {cursor: pointer;display: block;width: 100%;margin-bottom: 0;padding: 0.3em;box-sizing: border-box;text-align: center;}#sk-container-id-1 label.sk-toggleable__label-arrow:before {content: \"▸\";float: left;margin-right: 0.25em;color: #696969;}#sk-container-id-1 label.sk-toggleable__label-arrow:hover:before {color: black;}#sk-container-id-1 div.sk-estimator:hover label.sk-toggleable__label-arrow:before {color: black;}#sk-container-id-1 div.sk-toggleable__content {max-height: 0;max-width: 0;overflow: hidden;text-align: left;background-color: #f0f8ff;}#sk-container-id-1 div.sk-toggleable__content pre {margin: 0.2em;color: black;border-radius: 0.25em;background-color: #f0f8ff;}#sk-container-id-1 input.sk-toggleable__control:checked~div.sk-toggleable__content {max-height: 200px;max-width: 100%;overflow: auto;}#sk-container-id-1 input.sk-toggleable__control:checked~label.sk-toggleable__label-arrow:before {content: \"▾\";}#sk-container-id-1 div.sk-estimator input.sk-toggleable__control:checked~label.sk-toggleable__label {background-color: #d4ebff;}#sk-container-id-1 div.sk-label input.sk-toggleable__control:checked~label.sk-toggleable__label {background-color: #d4ebff;}#sk-container-id-1 input.sk-hidden--visually {border: 0;clip: rect(1px 1px 1px 1px);clip: rect(1px, 1px, 1px, 1px);height: 1px;margin: -1px;overflow: hidden;padding: 0;position: absolute;width: 1px;}#sk-container-id-1 div.sk-estimator {font-family: monospace;background-color: #f0f8ff;border: 1px dotted black;border-radius: 0.25em;box-sizing: border-box;margin-bottom: 0.5em;}#sk-container-id-1 div.sk-estimator:hover {background-color: #d4ebff;}#sk-container-id-1 div.sk-parallel-item::after {content: \"\";width: 100%;border-bottom: 1px solid gray;flex-grow: 1;}#sk-container-id-1 div.sk-label:hover label.sk-toggleable__label {background-color: #d4ebff;}#sk-container-id-1 div.sk-serial::before {content: \"\";position: absolute;border-left: 1px solid gray;box-sizing: border-box;top: 0;bottom: 0;left: 50%;z-index: 0;}#sk-container-id-1 div.sk-serial {display: flex;flex-direction: column;align-items: center;background-color: white;padding-right: 0.2em;padding-left: 0.2em;position: relative;}#sk-container-id-1 div.sk-item {position: relative;z-index: 1;}#sk-container-id-1 div.sk-parallel {display: flex;align-items: stretch;justify-content: center;background-color: white;position: relative;}#sk-container-id-1 div.sk-item::before, #sk-container-id-1 div.sk-parallel-item::before {content: \"\";position: absolute;border-left: 1px solid gray;box-sizing: border-box;top: 0;bottom: 0;left: 50%;z-index: -1;}#sk-container-id-1 div.sk-parallel-item {display: flex;flex-direction: column;z-index: 1;position: relative;background-color: white;}#sk-container-id-1 div.sk-parallel-item:first-child::after {align-self: flex-end;width: 50%;}#sk-container-id-1 div.sk-parallel-item:last-child::after {align-self: flex-start;width: 50%;}#sk-container-id-1 div.sk-parallel-item:only-child::after {width: 0;}#sk-container-id-1 div.sk-dashed-wrapped {border: 1px dashed gray;margin: 0 0.4em 0.5em 0.4em;box-sizing: border-box;padding-bottom: 0.4em;background-color: white;}#sk-container-id-1 div.sk-label label {font-family: monospace;font-weight: bold;display: inline-block;line-height: 1.2em;}#sk-container-id-1 div.sk-label-container {text-align: center;}#sk-container-id-1 div.sk-container {/* jupyter's `normalize.less` sets `[hidden] { display: none; }` but bootstrap.min.css set `[hidden] { display: none !important; }` so we also need the `!important` here to be able to override the default hidden behavior on the sphinx rendered scikit-learn.org. See: https://github.com/scikit-learn/scikit-learn/issues/21755 */display: inline-block !important;position: relative;}#sk-container-id-1 div.sk-text-repr-fallback {display: none;}</style><div id=\"sk-container-id-1\" class=\"sk-top-container\"><div class=\"sk-text-repr-fallback\"><pre>LogisticRegression(random_state=42, solver=&#x27;liblinear&#x27;)</pre><b>In a Jupyter environment, please rerun this cell to show the HTML representation or trust the notebook. <br />On GitHub, the HTML representation is unable to render, please try loading this page with nbviewer.org.</b></div><div class=\"sk-container\" hidden><div class=\"sk-item\"><div class=\"sk-estimator sk-toggleable\"><input class=\"sk-toggleable__control sk-hidden--visually\" id=\"sk-estimator-id-1\" type=\"checkbox\" checked><label for=\"sk-estimator-id-1\" class=\"sk-toggleable__label sk-toggleable__label-arrow\">LogisticRegression</label><div class=\"sk-toggleable__content\"><pre>LogisticRegression(random_state=42, solver=&#x27;liblinear&#x27;)</pre></div></div></div></div></div>"
      ],
      "text/plain": [
       "LogisticRegression(random_state=42, solver='liblinear')"
      ]
     },
     "execution_count": 11,
     "metadata": {},
     "output_type": "execute_result"
    }
   ],
   "source": [
    "# model defining\n",
    "#rf_best = RandomForestClassifier(**rf_random.best_params_, random_state=42)\n",
    "#dt_best = DecisionTreeClassifier(**dt_random.best_params_, random_state=42)\n",
    "#gnb_best = GaussianNB(**gnb_random.best_params_)\n",
    "ab_best = AdaBoostClassifier(**ab_random.best_params_, random_state=42)\n",
    "lr_best = LogisticRegression(**lr_random.best_params_, random_state=42)\n",
    "\n",
    "# Train models\n",
    "#rf_best.fit(X_train, y_train)\n",
    "#dt_best.fit(X_train, y_train)\n",
    "#gnb_best.fit(X_train, y_train)\n",
    "ab_best.fit(X_train, y_train)\n",
    "lr_best.fit(X_train, y_train)"
   ]
  },
  {
   "cell_type": "markdown",
   "id": "9d16063e",
   "metadata": {
    "papermill": {
     "duration": 0.003688,
     "end_time": "2025-03-06T11:08:36.527119",
     "exception": false,
     "start_time": "2025-03-06T11:08:36.523431",
     "status": "completed"
    },
    "tags": []
   },
   "source": [
    "# Evaluate Final Models"
   ]
  },
  {
   "cell_type": "markdown",
   "id": "94d8df48",
   "metadata": {
    "papermill": {
     "duration": 0.003674,
     "end_time": "2025-03-06T11:08:36.535456",
     "exception": false,
     "start_time": "2025-03-06T11:08:36.531782",
     "status": "completed"
    },
    "tags": []
   },
   "source": [
    "## AdaBoost"
   ]
  },
  {
   "cell_type": "code",
   "execution_count": 12,
   "id": "f4dc722a",
   "metadata": {
    "execution": {
     "iopub.execute_input": "2025-03-06T11:08:36.675947Z",
     "iopub.status.busy": "2025-03-06T11:08:36.675430Z",
     "iopub.status.idle": "2025-03-06T11:08:38.293951Z",
     "shell.execute_reply": "2025-03-06T11:08:38.291640Z"
    },
    "papermill": {
     "duration": 1.757408,
     "end_time": "2025-03-06T11:08:38.296720",
     "exception": false,
     "start_time": "2025-03-06T11:08:36.539312",
     "status": "completed"
    },
    "tags": []
   },
   "outputs": [
    {
     "name": "stdout",
     "output_type": "stream",
     "text": [
      "\n",
      "Model: AdaBoost\n",
      "Accuracy: 0.9416\n",
      "              precision    recall  f1-score   support\n",
      "\n",
      "         0.0       0.96      0.89      0.92     67995\n",
      "         1.0       1.00      0.99      1.00     68361\n",
      "         2.0       0.84      0.97      0.90     68156\n",
      "         3.0       0.94      0.97      0.96     67557\n",
      "         4.0       1.00      0.88      0.94     67997\n",
      "\n",
      "    accuracy                           0.94    340066\n",
      "   macro avg       0.95      0.94      0.94    340066\n",
      "weighted avg       0.95      0.94      0.94    340066\n",
      "\n"
     ]
    }
   ],
   "source": [
    "y_pred_ab = ab_best.predict(X_test)\n",
    "\n",
    "print(\"\\nModel: AdaBoost\")\n",
    "print(f\"Accuracy: {accuracy_score(y_test, y_pred_ab):.4f}\")\n",
    "print(classification_report(y_test, y_pred_ab))"
   ]
  },
  {
   "cell_type": "markdown",
   "id": "15e21207",
   "metadata": {
    "papermill": {
     "duration": 0.003947,
     "end_time": "2025-03-06T11:08:38.305377",
     "exception": false,
     "start_time": "2025-03-06T11:08:38.301430",
     "status": "completed"
    },
    "tags": []
   },
   "source": [
    "## Logistic Regression"
   ]
  },
  {
   "cell_type": "code",
   "execution_count": 13,
   "id": "0405d833",
   "metadata": {
    "execution": {
     "iopub.execute_input": "2025-03-06T11:08:38.315175Z",
     "iopub.status.busy": "2025-03-06T11:08:38.314768Z",
     "iopub.status.idle": "2025-03-06T11:08:39.086917Z",
     "shell.execute_reply": "2025-03-06T11:08:39.084682Z"
    },
    "papermill": {
     "duration": 0.780252,
     "end_time": "2025-03-06T11:08:39.089686",
     "exception": false,
     "start_time": "2025-03-06T11:08:38.309434",
     "status": "completed"
    },
    "tags": []
   },
   "outputs": [
    {
     "name": "stdout",
     "output_type": "stream",
     "text": [
      "\n",
      "Model: Logistic Regression\n",
      "Accuracy: 0.9012\n",
      "              precision    recall  f1-score   support\n",
      "\n",
      "         0.0       0.72      1.00      0.84     67995\n",
      "         1.0       1.00      1.00      1.00     68361\n",
      "         2.0       0.96      0.60      0.74     68156\n",
      "         3.0       0.94      0.97      0.96     67557\n",
      "         4.0       0.99      0.93      0.96     67997\n",
      "\n",
      "    accuracy                           0.90    340066\n",
      "   macro avg       0.92      0.90      0.90    340066\n",
      "weighted avg       0.92      0.90      0.90    340066\n",
      "\n"
     ]
    }
   ],
   "source": [
    "y_pred_lr = lr_best.predict(X_test)\n",
    "\n",
    "print(\"\\nModel: Logistic Regression\")\n",
    "print(f\"Accuracy: {accuracy_score(y_test, y_pred_lr):.4f}\")\n",
    "print(classification_report(y_test, y_pred_lr))"
   ]
  }
 ],
 "metadata": {
  "kaggle": {
   "accelerator": "none",
   "dataSources": [
    {
     "datasetId": 6769967,
     "sourceId": 10893704,
     "sourceType": "datasetVersion"
    }
   ],
   "dockerImageVersionId": 30918,
   "isGpuEnabled": false,
   "isInternetEnabled": true,
   "language": "python",
   "sourceType": "notebook"
  },
  "kernelspec": {
   "display_name": "Python 3",
   "language": "python",
   "name": "python3"
  },
  "language_info": {
   "codemirror_mode": {
    "name": "ipython",
    "version": 3
   },
   "file_extension": ".py",
   "mimetype": "text/x-python",
   "name": "python",
   "nbconvert_exporter": "python",
   "pygments_lexer": "ipython3",
   "version": "3.10.12"
  },
  "papermill": {
   "default_parameters": {},
   "duration": 19193.199475,
   "end_time": "2025-03-06T11:08:39.942394",
   "environment_variables": {},
   "exception": null,
   "input_path": "__notebook__.ipynb",
   "output_path": "__notebook__.ipynb",
   "parameters": {},
   "start_time": "2025-03-06T05:48:46.742919",
   "version": "2.6.0"
  }
 },
 "nbformat": 4,
 "nbformat_minor": 5
}
